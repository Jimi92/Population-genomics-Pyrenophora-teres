{
 "cells": [
  {
   "cell_type": "code",
   "execution_count": 1,
   "metadata": {},
   "outputs": [],
   "source": [
    "import pandas as pd\n",
    "import numpy as np"
   ]
  },
  {
   "cell_type": "code",
   "execution_count": 19,
   "metadata": {},
   "outputs": [],
   "source": [
    "def get_uniq_regs(f,chrm,ChrLen,start,window):\n",
    "    bin_start = start\n",
    "    bin_end = window\n",
    "    av_mu = []\n",
    "    df = pd.read_table(f, header = 0)\n",
    "    df = df.where(df.Chr == chrm).dropna()\n",
    "    for i in range(ChrLen + 1):\n",
    "        if bin_end > ChrLen:\n",
    "            continue\n",
    "        else:\n",
    "            bin_end = bin_start + window\n",
    "            mu_in_w = df.where(df.Start >= bin_start).dropna()\n",
    "            mu_in_w = mu_in_w.where(mu_in_w.End <= bin_end).dropna()\n",
    "            mu = mu_in_w.Mu.mean()\n",
    "            bin_start = bin_start + window +1\n",
    "            av_mu.append(mu)\n",
    "        av_mu_df = pd.DataFrame(av_mu, columns=['av_mu'])\n",
    "        Start_pos = np.arange(0,ChrLen,window)\n",
    "        End_pos = Start_pos + window\n",
    "        final_df = pd.DataFrame(Start_pos,columns=['Start_pos'])\n",
    "        final_df['End_pos'] = End_pos\n",
    "        final_df['av_mu'] = av_mu_df.av_mu\n",
    "        final_df['Chr'] = chrm\n",
    "        final_df = final_df[['Chr','Start_pos','End_pos','av_mu']].fillna(0)\n",
    "        final_df = final_df\n",
    "    return final_df"
   ]
  },
  {
   "cell_type": "code",
   "execution_count": null,
   "metadata": {},
   "outputs": [],
   "source": [
    "chr1 = get_uniq_regs('full_RaisD_C1', 'Chr1',5917797,0,500)"
   ]
  },
  {
   "cell_type": "code",
   "execution_count": 4,
   "metadata": {},
   "outputs": [
    {
     "data": {
      "text/plain": [
       "3.8787946110277653"
      ]
     },
     "execution_count": 4,
     "metadata": {},
     "output_type": "execute_result"
    }
   ],
   "source": [
    "df.Mu.mean()"
   ]
  },
  {
   "cell_type": "code",
   "execution_count": null,
   "metadata": {},
   "outputs": [],
   "source": []
  },
  {
   "cell_type": "code",
   "execution_count": null,
   "metadata": {},
   "outputs": [],
   "source": []
  }
 ],
 "metadata": {
  "kernelspec": {
   "display_name": "Python 3",
   "language": "python",
   "name": "python3"
  },
  "language_info": {
   "codemirror_mode": {
    "name": "ipython",
    "version": 3
   },
   "file_extension": ".py",
   "mimetype": "text/x-python",
   "name": "python",
   "nbconvert_exporter": "python",
   "pygments_lexer": "ipython3",
   "version": "3.7.6"
  }
 },
 "nbformat": 4,
 "nbformat_minor": 4
}
