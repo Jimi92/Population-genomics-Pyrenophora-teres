{
 "cells": [
  {
   "cell_type": "code",
   "execution_count": 1,
   "metadata": {},
   "outputs": [
    {
     "name": "stderr",
     "output_type": "stream",
     "text": [
      "/home/taliadoros/anaconda3/lib/python3.7/importlib/_bootstrap.py:219: RuntimeWarning: numpy.ufunc size changed, may indicate binary incompatibility. Expected 192 from C header, got 216 from PyObject\n",
      "  return f(*args, **kwds)\n"
     ]
    }
   ],
   "source": [
    "import pandas as pd\n",
    "import numpy as np\n",
    "import matplotlib.pyplot as plt"
   ]
  },
  {
   "cell_type": "code",
   "execution_count": 40,
   "metadata": {},
   "outputs": [],
   "source": [
    "def est_length(f,s):\n",
    "    df = pd.read_table(f, header = None)\n",
    "    df.rename({0: 'Chr', 1: 'Start', 2: 'End'}, axis=1, inplace=True)\n",
    "    df['Len'] = df.End - df.Start\n",
    "    x = df.Len.sum()\n",
    "    pc_affected = (x/s)*100\n",
    "    return(pc_affected)"
   ]
  },
  {
   "cell_type": "code",
   "execution_count": 41,
   "metadata": {},
   "outputs": [
    {
     "data": {
      "text/plain": [
       "13.520371534383285"
      ]
     },
     "execution_count": 41,
     "metadata": {},
     "output_type": "execute_result"
    }
   ],
   "source": [
    "est_length('C1_full.bed',46508966)"
   ]
  },
  {
   "cell_type": "code",
   "execution_count": 46,
   "metadata": {},
   "outputs": [],
   "source": [
    "dic = {}\n",
    "\n",
    "dic['C1'] = est_length('circos/C1_full_ordered_merged.bed',46508966)\n",
    "dic['C2'] = est_length('circos/C2_full_ordered_merged.bed',46508966)\n",
    "dic['C3'] = est_length('circos/C3_full_ordered_merged.bed',46508966)\n",
    "dic['C4'] = est_length('circos/C4_full_ordered_merged.bed',46508966)\n",
    "dic['C5'] = est_length('circos/C5_full_ordered_merged.bed',46508966)\n",
    "dic['C6'] = est_length('circos/C6_full_ordered_merged.bed',46508966)"
   ]
  },
  {
   "cell_type": "code",
   "execution_count": 47,
   "metadata": {},
   "outputs": [
    {
     "data": {
      "text/plain": [
       "{'C1': 5.780883195726175,\n",
       " 'C2': 2.41865192186814,\n",
       " 'C3': 2.1671240766780326,\n",
       " 'C4': 3.54631620922297,\n",
       " 'C5': 2.1318642087205295,\n",
       " 'C6': 3.4792216193324963}"
      ]
     },
     "execution_count": 47,
     "metadata": {},
     "output_type": "execute_result"
    }
   ],
   "source": [
    "dic"
   ]
  },
  {
   "cell_type": "code",
   "execution_count": null,
   "metadata": {},
   "outputs": [],
   "source": []
  }
 ],
 "metadata": {
  "kernelspec": {
   "display_name": "Python 3",
   "language": "python",
   "name": "python3"
  },
  "language_info": {
   "codemirror_mode": {
    "name": "ipython",
    "version": 3
   },
   "file_extension": ".py",
   "mimetype": "text/x-python",
   "name": "python",
   "nbconvert_exporter": "python",
   "pygments_lexer": "ipython3",
   "version": "3.7.6"
  }
 },
 "nbformat": 4,
 "nbformat_minor": 4
}
